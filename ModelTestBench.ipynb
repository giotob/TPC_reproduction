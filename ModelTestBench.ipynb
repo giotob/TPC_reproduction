{
 "cells": [
  {
   "cell_type": "code",
   "execution_count": 1,
   "metadata": {},
   "outputs": [],
   "source": [
    "# %load_ext autoreload\n",
    "# %autoreload 2\n",
    "import os\n",
    "import sys\n",
    "from misc.utils import read_json\n",
    "from trainer.pl_trainer import Trainer\n",
    "from dataloader.eicu_reader import eICUDataloader\n",
    "from dataloader.mimic_reader import MIMICReader\n",
    "import pytorch_lightning as pl\n",
    "import numpy as np\n",
    "from misc.utils import los_metrics,mort_metrics"
   ]
  },
  {
   "cell_type": "markdown",
   "metadata": {},
   "source": [
    "## Load configuration file\n",
    "\n",
    "* The 'read_json' function reads the hyperparameters files for specific model and dataset.\n",
    "\n",
    "* Choose the model you want by assigning the variable model_type to either 'tpc', 'lstm' or 'transformer'.\n",
    "\n",
    "* For this demo we will only use mimic dataset\n"
   ]
  },
  {
   "cell_type": "code",
   "execution_count": 11,
   "metadata": {},
   "outputs": [],
   "source": [
    "model_type = 'tpc' # you can choose 'lstm' or 'transformer'\n",
    "\n",
    "if model_type =='tpc':\n",
    "    cfg = read_json('config/tpc_config_mimic.json')\n",
    "elif model_type=='lstm':\n",
    "    cfg = read_json('config/lstm_config_mimic.json')\n",
    "elif model_type=='transformer':\n",
    "    cfg = read_json('config/transformer_config_mimic.json')"
   ]
  },
  {
   "cell_type": "markdown",
   "metadata": {},
   "source": [
    "**datapath** is the directory that points to train/val/test folders"
   ]
  },
  {
   "cell_type": "code",
   "execution_count": 12,
   "metadata": {},
   "outputs": [],
   "source": [
    "# datapath = r'C:\\Users\\gtoba\\Documents\\GATECH\\CSE6250\\FinalProject\\data\\eicuData'\n",
    "datapath = './dataset'"
   ]
  },
  {
   "cell_type": "markdown",
   "metadata": {},
   "source": [
    "Since we're are only using mimic dataset. use  mimic dataloader"
   ]
  },
  {
   "cell_type": "code",
   "execution_count": 13,
   "metadata": {},
   "outputs": [],
   "source": [
    "traindataset = MIMICReader(datapath + '/train')\n",
    "valdataset = MIMICReader(datapath + '/val')\n",
    "testdataset = MIMICReader(datapath + '/test')"
   ]
  },
  {
   "cell_type": "markdown",
   "metadata": {},
   "source": [
    "Assign the task you want to do: Multitask, Length of Stay or Mortality predictions"
   ]
  },
  {
   "cell_type": "code",
   "execution_count": 14,
   "metadata": {},
   "outputs": [],
   "source": [
    "cfg.task = 'multi' # you can also do 'los' or 'mort'"
   ]
  },
  {
   "cell_type": "markdown",
   "metadata": {},
   "source": [
    "Once you have your dataloader and configurations loaded. You will then start training the model using the Trainer class"
   ]
  },
  {
   "cell_type": "code",
   "execution_count": 15,
   "metadata": {},
   "outputs": [
    {
     "name": "stderr",
     "output_type": "stream",
     "text": [
      "GPU available: True, used: False\n",
      "TPU available: False, using: 0 TPU cores\n",
      "IPU available: False, using: 0 IPUs\n",
      "HPU available: False, using: 0 HPUs\n",
      "C:\\Users\\gtoba\\anaconda3\\lib\\site-packages\\pytorch_lightning\\trainer\\trainer.py:1823: PossibleUserWarning: GPU available but not used. Set `accelerator` and `devices` using `Trainer(accelerator='gpu', devices=1)`.\n",
      "  rank_zero_warn(\n",
      "C:\\Users\\gtoba\\anaconda3\\lib\\site-packages\\pytorch_lightning\\callbacks\\model_checkpoint.py:608: UserWarning: Checkpoint directory c:\\Users\\gtoba\\Documents\\GATECH\\CSE6250\\Final Code\\ForSubmission\\checkpoints exists and is not empty.\n",
      "  rank_zero_warn(f\"Checkpoint directory {dirpath} exists and is not empty.\")\n"
     ]
    },
    {
     "name": "stdout",
     "output_type": "stream",
     "text": [
      "Epoch: 0\n",
      "Epoch 0: : 6it [00:14,  2.50s/it, loss=70.7, train_loss=67.90, val_loss_step=76.20, val_loss_epoch=76.20]\n"
     ]
    }
   ],
   "source": [
    "model = Trainer(cfg)\n",
    "demo = True # for demo purposes train only on one epoch\n",
    "\n",
    "if demo:\n",
    "    epochs = 1\n",
    "else :\n",
    "    epochs = cfg.epochs\n",
    "\n",
    "# Not ideal way of training model but the generator opens the file once and starts reading the data, the trainer needs to be restarted everytime to reopen the csv files\n",
    "for i in range(epochs):\n",
    "    \n",
    "    print(f\"Epoch: {i}\")\n",
    "    trainer = pl.Trainer(gpus = 0, max_epochs=1,logger=False,enable_model_summary = False)\n",
    "    train_batch = traindataset.batch_gen(batch_size= 32)\n",
    "    val_batch = valdataset.batch_gen(batch_size= cfg.batch_size)\n",
    "    trainer.fit(model,train_batch,val_batch)"
   ]
  },
  {
   "cell_type": "markdown",
   "metadata": {},
   "source": [
    "After model is done training, run the cell below to obtain the predictions of the trained model. Don't worry if it doesn't show any outputs. The predictions are stored in the model class "
   ]
  },
  {
   "cell_type": "code",
   "execution_count": 16,
   "metadata": {},
   "outputs": [
    {
     "name": "stdout",
     "output_type": "stream",
     "text": [
      "Testing DataLoader 0: : 1it [00:01,  1.39s/it]\n"
     ]
    },
    {
     "data": {
      "text/plain": [
       "[{}]"
      ]
     },
     "execution_count": 16,
     "metadata": {},
     "output_type": "execute_result"
    }
   ],
   "source": [
    "test_batch = testdataset.batch_gen(batch_size= 32)\n",
    "trainer.test(model,test_batch)"
   ]
  },
  {
   "cell_type": "markdown",
   "metadata": {},
   "source": [
    "After testing run the cell below to generate the LoS and Mortality metrics of the trained model"
   ]
  },
  {
   "cell_type": "code",
   "execution_count": 17,
   "metadata": {},
   "outputs": [
    {
     "name": "stdout",
     "output_type": "stream",
     "text": [
      "tpc metrics\n",
      "********** Lenght of Stay Metrics **********\n",
      "Mean Square Error: 23.941396713256836\n",
      "Mean Square Log Error: 2.102731466293335\n",
      "Mean Absolute Error: 3.0441558361053467\n",
      "Mean Absolute Percentage Error: 101.20042562484741\n",
      "Rsquare: -0.42291305828983594\n",
      "Cohen Kappa Score: 0.06299047642206013\n",
      "********** Mortality Metrics **********\n",
      "              precision    recall  f1-score   support\n",
      "\n",
      "        dead       0.00      0.00      0.00      1969\n",
      "       alive       0.16      1.00      0.28       387\n",
      "\n",
      "    accuracy                           0.16      2356\n",
      "   macro avg       0.08      0.50      0.14      2356\n",
      "weighted avg       0.03      0.16      0.05      2356\n",
      "\n",
      "Accuracy:0.16426146010186757\n",
      "AUROC: 0.6638937117045471\n",
      "AUPRC:0.46487051538066515\n"
     ]
    },
    {
     "name": "stderr",
     "output_type": "stream",
     "text": [
      "C:\\Users\\gtoba\\anaconda3\\lib\\site-packages\\sklearn\\metrics\\_classification.py:1248: UndefinedMetricWarning: Precision and F-score are ill-defined and being set to 0.0 in labels with no predicted samples. Use `zero_division` parameter to control this behavior.\n",
      "  _warn_prf(average, modifier, msg_start, len(result))\n",
      "C:\\Users\\gtoba\\anaconda3\\lib\\site-packages\\sklearn\\metrics\\_classification.py:1248: UndefinedMetricWarning: Precision and F-score are ill-defined and being set to 0.0 in labels with no predicted samples. Use `zero_division` parameter to control this behavior.\n",
      "  _warn_prf(average, modifier, msg_start, len(result))\n",
      "C:\\Users\\gtoba\\anaconda3\\lib\\site-packages\\sklearn\\metrics\\_classification.py:1248: UndefinedMetricWarning: Precision and F-score are ill-defined and being set to 0.0 in labels with no predicted samples. Use `zero_division` parameter to control this behavior.\n",
      "  _warn_prf(average, modifier, msg_start, len(result))\n"
     ]
    }
   ],
   "source": [
    "\n",
    "print(f'{cfg.model_name} metrics')\n",
    "# nested arrays, flatten them out\n",
    "if model.test_y_list:\n",
    "    y = np.array([ i for sublist in model.test_y_list for i in sublist])\n",
    "    preds =np.array([i for sublist in model.test_pred_list for i in sublist])\n",
    "    los_metrics(y,preds)\n",
    "\n",
    "if model.test_y_mort_list:\n",
    "    y_mort = np.array([ i for sublist in model.test_y_mort_list for i in sublist])\n",
    "    pred_mort =np.array([ i for sublist in model.test_pred_mort_list for i in sublist])\n",
    "    mort_metrics(y_mort,pred_mort)"
   ]
  },
  {
   "cell_type": "markdown",
   "metadata": {},
   "source": [
    "If you want to test your trained model against a naive mean/median model run the cells below"
   ]
  },
  {
   "cell_type": "code",
   "execution_count": 18,
   "metadata": {},
   "outputs": [],
   "source": [
    "from model.mean_median import mean_median_model"
   ]
  },
  {
   "cell_type": "code",
   "execution_count": 19,
   "metadata": {},
   "outputs": [
    {
     "name": "stdout",
     "output_type": "stream",
     "text": [
      "Total predictions:\n",
      "Using mean value of 6.287318774569041...\n",
      "********** Lenght of Stay Metrics **********\n",
      "Mean Square Error: 23.0802166257416\n",
      "Mean Square Log Error: 3.222914584607761\n",
      "Mean Absolute Error: 4.247131589535073\n",
      "Mean Absolute Percentage Error: 592.3793526827769\n",
      "Rsquare: -0.37173048902106864\n",
      "Cohen Kappa Score: 0.0\n",
      "Using median value of 2.288090229034424...\n",
      "********** Lenght of Stay Metrics **********\n",
      "Mean Square Error: 19.07055181318631\n",
      "Mean Square Log Error: 1.8496397219316225\n",
      "Mean Absolute Error: 2.8485169178539023\n",
      "Mean Absolute Percentage Error: 201.25766695910863\n",
      "Rsquare: -0.1334233897712882\n",
      "Cohen Kappa Score: 0.0\n"
     ]
    }
   ],
   "source": [
    "train_batch = traindataset.batch_gen(batch_size= 32)\n",
    "test_batch = testdataset.batch_gen(batch_size= cfg.batch_size)\n",
    "mean_median_model(train_batch,test_batch)\n"
   ]
  },
  {
   "cell_type": "code",
   "execution_count": null,
   "metadata": {},
   "outputs": [],
   "source": []
  }
 ],
 "metadata": {
  "interpreter": {
   "hash": "4a07a67d56127d624ff2becdc6764db502fa4924638037bad70b8df4f59f5212"
  },
  "kernelspec": {
   "display_name": "Python 3.9.7 ('base')",
   "language": "python",
   "name": "python3"
  },
  "language_info": {
   "codemirror_mode": {
    "name": "ipython",
    "version": 3
   },
   "file_extension": ".py",
   "mimetype": "text/x-python",
   "name": "python",
   "nbconvert_exporter": "python",
   "pygments_lexer": "ipython3",
   "version": "3.9.7"
  },
  "orig_nbformat": 4
 },
 "nbformat": 4,
 "nbformat_minor": 2
}
